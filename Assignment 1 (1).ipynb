{
 "cells": [
  {
   "cell_type": "code",
   "execution_count": 1,
   "metadata": {},
   "outputs": [],
   "source": [
    "import torch\n",
    "import torchvision\n",
    "import torchvision.transforms as transforms\n",
    "import torch.nn as nn\n",
    "import torch.nn.functional as F\n",
    "import torch.optim as optim\n",
    "from torch.optim.lr_scheduler import StepLR"
   ]
  },
  {
   "cell_type": "markdown",
   "metadata": {},
   "source": [
    "# Example"
   ]
  },
  {
   "cell_type": "markdown",
   "metadata": {},
   "source": [
    "## Define the dataset and dataloader\n",
    "\n",
    "The output of torchvision datasets are PILImage images of range [0, 1].\n",
    "We transform them to Tensors of normalized range [-1, 1].\n",
    "\n"
   ]
  },
  {
   "cell_type": "code",
   "execution_count": 9,
   "metadata": {},
   "outputs": [
    {
     "name": "stdout",
     "output_type": "stream",
     "text": [
      "Downloading https://www.cs.toronto.edu/~kriz/cifar-10-python.tar.gz to ./data/cifar-10-python.tar.gz\n"
     ]
    },
    {
     "name": "stderr",
     "output_type": "stream",
     "text": [
      "100%|██████████| 170498071/170498071 [00:16<00:00, 10425936.67it/s]\n"
     ]
    },
    {
     "name": "stdout",
     "output_type": "stream",
     "text": [
      "Extracting ./data/cifar-10-python.tar.gz to ./data\n",
      "Files already downloaded and verified\n",
      "Files already downloaded and verified\n",
      "Files already downloaded and verified\n"
     ]
    }
   ],
   "source": [
    "transform = transforms.Compose(\n",
    "    [transforms.ToTensor(),\n",
    "     transforms.Normalize((0.5, 0.5, 0.5), (0.5, 0.5, 0.5))])\n",
    "\n",
    "batch_size = 64\n",
    "\n",
    "def get_vis_loader():\n",
    "    transform = transforms.Compose(\n",
    "    [transforms.ToTensor(),\n",
    "     transforms.Normalize((0.5, 0.5, 0.5), (0.5, 0.5, 0.5))])\n",
    "\n",
    "    trainset = torchvision.datasets.CIFAR10(root='./data', train=True,\n",
    "                                            download=True, transform=transform)\n",
    "    trainloader = torch.utils.data.DataLoader(trainset, batch_size=4,\n",
    "                                              shuffle=True, num_workers=2)\n",
    "    testset = torchvision.datasets.CIFAR10(root='./data', train=False,\n",
    "                                           download=True, transform=transform)\n",
    "    testloader = torch.utils.data.DataLoader(testset, batch_size=4,\n",
    "                                             shuffle=False, num_workers=2)\n",
    "    return trainloader, testloader\n",
    "\n",
    "def get_train_loader(batch_size, transform):\n",
    "    trainset = torchvision.datasets.CIFAR10(root='./data', train=True,\n",
    "                                            download=True, transform=transform)\n",
    "    trainloader = torch.utils.data.DataLoader(trainset, batch_size=batch_size,\n",
    "                                              shuffle=True, num_workers=2)\n",
    "    return trainloader\n",
    "    \n",
    "def get_test_loader(batch_size, transform):\n",
    "    testset = torchvision.datasets.CIFAR10(root='./data', train=False,\n",
    "                                           download=True, transform=transform)\n",
    "    testloader = torch.utils.data.DataLoader(testset, batch_size=batch_size,\n",
    "                                             shuffle=False, num_workers=2)\n",
    "    return testloader\n",
    "    \n",
    "classes = ('plane', 'car', 'bird', 'cat',\n",
    "           'deer', 'dog', 'frog', 'horse', 'ship', 'truck')\n",
    "\n",
    "vistrainloader, vistestloader = get_vis_loader()\n",
    "trainloader = get_train_loader(batch_size, transform)\n",
    "testloader = get_test_loader(batch_size, transform)"
   ]
  },
  {
   "cell_type": "markdown",
   "metadata": {},
   "source": [
    "## Visualization\n",
    "\n",
    "Let us show some of the training images, for fun.\n",
    "\n"
   ]
  },
  {
   "cell_type": "code",
   "execution_count": 10,
   "metadata": {},
   "outputs": [
    {
     "data": {
      "image/png": "[encoded data removed]",
      "text/plain": [
       "<Figure size 640x480 with 1 Axes>"
      ]
     },
     "metadata": {},
     "output_type": "display_data"
    },
    {
     "name": "stdout",
     "output_type": "stream",
     "text": [
      " ship truck  frog  ship\n"
     ]
    }
   ],
   "source": [
    "import matplotlib.pyplot as plt\n",
    "import numpy as np\n",
    "\n",
    "# functions to show an image\n",
    "def imshow(img):\n",
    "    img = img / 2 + 0.5     # unnormalize\n",
    "    npimg = img.numpy()\n",
    "    plt.imshow(np.transpose(npimg, (1, 2, 0)))\n",
    "    plt.show()\n",
    "\n",
    "# get some random training images\n",
    "dataiter = iter(vistrainloader)\n",
    "images, labels = next(dataiter)\n",
    "\n",
    "# show images\n",
    "imshow(torchvision.utils.make_grid(images))\n",
    "# print labels\n",
    "print(' '.join('%5s' % classes[labels[j]] for j in range(4)))"
   ]
  },
  {
   "cell_type": "markdown",
   "metadata": {},
   "source": [
    "## Define training code"
   ]
  },
  {
   "cell_type": "code",
   "execution_count": null,
   "metadata": {},
   "outputs": [],
   "source": [
    "def forward_step(net, inputs, labels):\n",
    "    outputs = net(inputs)\n",
    "    loss = criterion(outputs, labels)\n",
    "    return outputs, loss, labels\n",
    "\n",
    "\n",
    "def train(net, loader, optimizer, max_epoch):\n",
    "    net.train()\n",
    "    N = len(loader)\n",
    "    print_interval = (N // 8 // 100 + 1) * 100\n",
    "    for epoch in range(max_epoch):  # loop over the dataset multiple times\n",
    "\n",
    "        running_loss = 0.0\n",
    "        running_acc = 0.0\n",
    "        for i, data in enumerate(loader, 0):\n",
    "            # get the inputs; data is a list of [inputs, labels]\n",
    "            inputs, labels = data\n",
    "\n",
    "            # zero the parameter gradients\n",
    "            optimizer.zero_grad()\n",
    "\n",
    "            # forward + backward + optimize\n",
    "            outputs, loss, labels = forward_step(net, inputs, labels)\n",
    "            loss.backward()\n",
    "            optimizer.step()\n",
    "\n",
    "            # print statistics\n",
    "            running_loss += loss.item()\n",
    "            running_acc += accuracy(outputs, labels).item()\n",
    "            if (i + 1) % print_interval == 0:\n",
    "                print('Epoch: [%d / %d], batches: [%d / %d], loss: %.3f, acc: %.2f' %\n",
    "                      (epoch + 1, max_epoch, i + 1, N, \n",
    "                       running_loss / print_interval, 100 * running_acc / print_interval))\n",
    "                running_loss = 0.0\n",
    "                running_acc = 0.0\n",
    "\n",
    "    print('Finished Training')"
   ]
  },
  {
   "cell_type": "markdown",
   "metadata": {},
   "source": [
    "## Training on GPU?"
   ]
  },
  {
   "cell_type": "code",
   "execution_count": 9,
   "metadata": {},
   "outputs": [
    {
     "name": "stdout",
     "output_type": "stream",
     "text": [
      "cpu\n"
     ]
    }
   ],
   "source": [
    "device = torch.device(\"cuda:0\" if torch.cuda.is_available() else \"cpu\")\n",
    "\n",
    "# Assuming that we are on a CUDA machine, this should print a CUDA device:\n",
    "print(device)"
   ]
  },
  {
   "cell_type": "markdown",
   "metadata": {},
   "source": [
    "The rest of this section assumes that ``device`` is a CUDA device."
   ]
  },
  {
   "cell_type": "markdown",
   "metadata": {},
   "source": [
    "## Train the network\n",
    "\n",
    "This is when things start to get interesting.\n",
    "We simply have to loop over our data iterator, and feed the inputs to the\n",
    "network and optimize.\n",
    "\n"
   ]
  },
  {
   "cell_type": "code",
   "execution_count": null,
   "metadata": {},
   "outputs": [],
   "source": [
    "train(fc_net, trainloader, optimizer, 5)"
   ]
  },
  {
   "cell_type": "markdown",
   "metadata": {},
   "source": [
    "## Let's quickly save our trained model:\n",
    "\n"
   ]
  },
  {
   "cell_type": "code",
   "execution_count": null,
   "metadata": {},
   "outputs": [],
   "source": [
    "PATH = './checkpoints/cifar_net.pth'\n",
    "\n",
    "def save_model(net, path):\n",
    "    torch.save(net.state_dict(), path)\n",
    "    \n",
    "save_model(fc_net, PATH)"
   ]
  },
  {
   "cell_type": "markdown",
   "metadata": {},
   "source": [
    "## Test the network on the test data\n",
    "\n",
    "\n",
    "We have trained the network for 2 passes over the training dataset.\n",
    "But we need to check if the network has learnt anything at all.\n",
    "\n",
    "We will check this by predicting the class label that the neural network\n",
    "outputs, and checking it against the ground-truth. If the prediction is\n",
    "correct, we add the sample to the list of correct predictions.\n",
    "\n",
    "Okay, first step. Let us display an image from the test set to get familiar.\n",
    "\n"
   ]
  },
  {
   "cell_type": "code",
   "execution_count": null,
   "metadata": {},
   "outputs": [],
   "source": [
    "dataiter = iter(vistestloader)\n",
    "images, labels = next(dataiter)\n",
    "\n",
    "# print images\n",
    "imshow(torchvision.utils.make_grid(images))\n",
    "print('GroundTruth: ', ' '.join('%5s' % classes[labels[j]] for j in range(4)))"
   ]
  },
  {
   "cell_type": "markdown",
   "metadata": {},
   "source": [
    "## Load a model\n",
    "Next, let's load back in our saved model (note: saving and re-loading the model\n",
    "wasn't necessary here, we only did it to illustrate how to do so):\n",
    "\n"
   ]
  },
  {
   "cell_type": "code",
   "execution_count": null,
   "metadata": {},
   "outputs": [],
   "source": [
    "net = NeuralNet()\n",
    "\n",
    "def load_model(net, path):\n",
    "    net.load_state_dict(torch.load(PATH))\n",
    "    \n",
    "load_model(net, PATH)"
   ]
  },
  {
   "cell_type": "markdown",
   "metadata": {},
   "source": [
    "Okay, now let us see what the neural network thinks these examples above are:\n",
    "\n"
   ]
  },
  {
   "cell_type": "markdown",
   "metadata": {},
   "source": [
    "# Your turn now!"
   ]
  },
  {
   "cell_type": "code",
   "execution_count": 8,
   "metadata": {},
   "outputs": [
    {
     "name": "stdout",
     "output_type": "stream",
     "text": [
      "Files already downloaded and verified\n",
      "Files already downloaded and verified\n",
      "Files already downloaded and verified\n",
      "Files already downloaded and verified\n"
     ]
    }
   ],
   "source": [
    "transform = transforms.Compose(\n",
    "    [transforms.ToTensor(),\n",
    "     transforms.Normalize((0.5, 0.5, 0.5), (0.5, 0.5, 0.5))])\n",
    "\n",
    "batch_size = 64\n",
    "\n",
    "def get_vis_loader():\n",
    "    transform = transforms.Compose(\n",
    "    [transforms.ToTensor(),\n",
    "     transforms.Normalize((0.5, 0.5, 0.5), (0.5, 0.5, 0.5))])\n",
    "\n",
    "    trainset = torchvision.datasets.CIFAR10(root='./data', train=True,\n",
    "                                            download=True, transform=transform)\n",
    "    trainloader = torch.utils.data.DataLoader(trainset, batch_size=4,\n",
    "                                              shuffle=True, num_workers=2)\n",
    "    testset = torchvision.datasets.CIFAR10(root='./data', train=False,\n",
    "                                           download=True, transform=transform)\n",
    "    testloader = torch.utils.data.DataLoader(testset, batch_size=4,\n",
    "                                             shuffle=False, num_workers=2)\n",
    "    return trainloader, testloader\n",
    "\n",
    "def get_train_loader(batch_size, transform):\n",
    "    trainset = torchvision.datasets.CIFAR10(root='./data', train=True,\n",
    "                                            download=True, transform=transform)\n",
    "    trainloader = torch.utils.data.DataLoader(trainset, batch_size=batch_size,\n",
    "                                              shuffle=True, num_workers=2)\n",
    "    return trainloader\n",
    "    \n",
    "def get_test_loader(batch_size, transform):\n",
    "    testset = torchvision.datasets.CIFAR10(root='./data', train=False,\n",
    "                                           download=True, transform=transform)\n",
    "    testloader = torch.utils.data.DataLoader(testset, batch_size=batch_size,\n",
    "                                             shuffle=False, num_workers=2)\n",
    "    return testloader\n",
    "    \n",
    "classes = ('plane', 'car', 'bird', 'cat',\n",
    "           'deer', 'dog', 'frog', 'horse', 'ship', 'truck')\n",
    "\n",
    "vistrainloader, vistestloader = get_vis_loader()\n",
    "trainloader = get_train_loader(batch_size, transform)\n",
    "testloader = get_test_loader(batch_size, transform)"
   ]
  },
  {
   "cell_type": "markdown",
   "metadata": {},
   "source": [
    "## Define a Convolutional Neural Network\n",
    "\n",
    "The architecture should be:\n",
    "\n",
    "    conv2d, 5x5, 3->8, padding=2\n",
    "\n",
    "    Relu()\n",
    "\n",
    "    conv2d, 5x5, 8->16, padding=2, stride=2\n",
    "\n",
    "    Relu()\n",
    "\n",
    "    conv2d, 5x5, 16->32, padding=2\n",
    "    \n",
    "    Relu()\n",
    "\n",
    "    conv2d, 5x5, 32->64, padding=2, stride=2\n",
    "    \n",
    "    Relu()\n",
    "\n",
    "    conv2d, 5x5, 64->128, padding=2\n",
    "\n",
    "    maxpool2d\n",
    "\n",
    "    Relu()\n",
    "\n",
    "    flatten the feature map\n",
    "\n",
    "    fc, the whole feature map -> 120\n",
    "\n",
    "    Relu()\n",
    "\n",
    "    fc, 120->84\n",
    "\n",
    "    Relu()\n",
    "\n",
    "    fc, 84->10\n",
    "    "
   ]
  },
  {
   "cell_type": "code",
   "execution_count": 10,
   "metadata": {},
   "outputs": [],
   "source": [
    "class ConvolutionNet(nn.Module):\n",
    "    def __init__(self):\n",
    "        super(ConvolutionNet, self).__init__()\n",
    "        self.conv1 = nn.Conv2d(3, 8, kernel_size=5, padding=2)\n",
    "        self.conv2 = nn.Conv2d(8, 16, kernel_size=5, padding=2, stride=2)\n",
    "        self.conv3 = nn.Conv2d(16, 32, kernel_size=5, padding=2)\n",
    "        self.conv4 = nn.Conv2d(32, 64, kernel_size=5, padding=2, stride=2)\n",
    "        self.conv5 = nn.Conv2d(64, 128, kernel_size=5, padding=2)\n",
    "        self.pool = nn.MaxPool2d(2, 2)\n",
    "        # 使用dummy tensor来计算全连接层的输入维度\n",
    "        self._to_linear = None\n",
    "        self.convs(torch.randn(1, 3, 32, 32))  # 初始化_fc_input_size\n",
    "        self.fc1 = nn.Linear(self._to_linear, 120)\n",
    "        self.fc2 = nn.Linear(120, 84)\n",
    "        self.fc3 = nn.Linear(84, 10)\n",
    "\n",
    "    def convs(self, x):\n",
    "        x = F.relu(self.conv1(x))\n",
    "        x = self.pool(F.relu(self.conv2(x)))\n",
    "        x = F.relu(self.conv3(x))\n",
    "        x = self.pool(F.relu(self.conv4(x)))\n",
    "        x = F.relu(self.conv5(x))\n",
    "        x = self.pool(x)\n",
    "\n",
    "        # 自动计算特征图的尺寸\n",
    "        if self._to_linear is None:\n",
    "            self._to_linear = x.numel()  # 获取展平后的元素数量\n",
    "        return x\n",
    "\n",
    "\n",
    "    def forward(self, x):\n",
    "        x = F.relu(self.conv1(x))\n",
    "        x = self.pool(F.relu(self.conv2(x)))\n",
    "        x = F.relu(self.conv3(x))\n",
    "        x = self.pool(F.relu(self.conv4(x)))\n",
    "        x = F.relu(self.conv5(x))\n",
    "        x = self.pool(x)\n",
    "        x = torch.flatten(x, 1)\n",
    "        x = F.relu(self.fc1(x))\n",
    "        x = F.relu(self.fc2(x))\n",
    "        x = self.fc3(x)\n",
    "        return x\n"
   ]
  },
  {
   "cell_type": "markdown",
   "metadata": {},
   "source": [
    "## Train the convolutional neural network\n",
    "\n",
    "Train this CNN with learning rate 1e-2 for 5 epochs.\n",
    "\n",
    "You should see the training loss is aroung 0.9 and accuracy is around 67%."
   ]
  },
  {
   "cell_type": "code",
   "execution_count": 12,
   "metadata": {},
   "outputs": [],
   "source": [
    "def forward_step(net, inputs, labels, device):\n",
    "    inputs, labels = inputs.to(device), labels.to(device)\n",
    "    outputs = net(inputs)\n",
    "    loss = criterion(outputs, labels)\n",
    "    return outputs, loss, labels\n",
    "\n",
    "def train(net, loader, optimizer, max_epoch, device):\n",
    "    net.train()\n",
    "    N = len(loader)\n",
    "    print_interval = (N // 8 // 100 + 1) * 100\n",
    "    for epoch in range(max_epoch):\n",
    "        running_loss = 0.0\n",
    "        running_acc = 0.0\n",
    "        for i, data in enumerate(loader, 0):\n",
    "            inputs, labels = data\n",
    "            inputs, labels = inputs.to(device), labels.to(device)\n",
    "            optimizer.zero_grad()\n",
    "            outputs, loss, labels = forward_step(net, inputs, labels, device)\n",
    "            loss.backward()\n",
    "            optimizer.step()\n",
    "\n",
    "            running_loss += loss.item()\n",
    "            running_acc += accuracy(outputs, labels).item()\n",
    "            if (i + 1) % print_interval == 0:\n",
    "                print(f'Epoch: [{epoch + 1}/{max_epoch}], Batches: [{i + 1}/{N}], '\n",
    "                      f'Loss: {running_loss / print_interval:.3f}, Acc: {100 * running_acc / print_interval:.2f}%')\n",
    "                running_loss = 0.0\n",
    "                running_acc = 0.0\n",
    "    print('Finished Training')"
   ]
  },
  {
   "cell_type": "markdown",
   "metadata": {},
   "source": [
    "## Test the convolutional neural network\n",
    "\n",
    "Test this CNN on the test dataset.\n",
    "\n",
    "You should see the accuracy is around 62%."
   ]
  },
  {
   "cell_type": "code",
   "execution_count": 14,
   "metadata": {},
   "outputs": [],
   "source": [
    "def test(net, testloader, device):\n",
    "    correct = 0\n",
    "    total = 0\n",
    "    net.eval()\n",
    "    with torch.no_grad():\n",
    "        for data in testloader:\n",
    "            images, labels = data\n",
    "            images, labels = images.to(device), labels.to(device)\n",
    "            outputs = net(images)\n",
    "            _, predicted = torch.max(outputs.data, 1)\n",
    "            total += labels.size(0)\n",
    "            correct += (predicted == labels).sum().item()\n",
    "    print(f'Accuracy of the network on the 10000 test images: {100 * correct / total:.2f}%')"
   ]
  },
  {
   "cell_type": "markdown",
   "metadata": {},
   "source": [
    "## Accuracy (each class) of CNN\n",
    "\n",
    "Test this CNN on the test dataset to see the accuracy of each class."
   ]
  },
  {
   "cell_type": "code",
   "execution_count": 16,
   "metadata": {},
   "outputs": [],
   "source": [
    "def accuracy(output, target):\n",
    "    pred = output.max(1, keepdim=True)[1]\n",
    "    return pred.eq(target.view_as(pred)).float().mean()\n",
    "def class_test(net, testloader, classes, device):\n",
    "    correct_pred = {classname: 0 for classname in classes}\n",
    "    total_pred = {classname: 0 for classname in classes}\n",
    "\n",
    "    net.eval()\n",
    "    with torch.no_grad():\n",
    "        for data in testloader:\n",
    "            images, labels = data\n",
    "            images, labels = images.to(device), labels.to(device)\n",
    "            outputs = net(images)\n",
    "            _, predictions = torch.max(outputs, 1)\n",
    "            for label, prediction in zip(labels, predictions):\n",
    "                if label == prediction:\n",
    "                    correct_pred[classes[label]] += 1\n",
    "                total_pred[classes[label]] += 1\n",
    "\n",
    "    for classname, correct_count in correct_pred.items():\n",
    "        acc = 100 * float(correct_count) / total_pred[classname]\n",
    "        print(f\"Accuracy for class {classname:5s} is: {acc:.1f} %\")"
   ]
  },
  {
   "cell_type": "markdown",
   "metadata": {},
   "source": [
    "## train the network"
   ]
  },
  {
   "cell_type": "code",
   "execution_count": 18,
   "metadata": {},
   "outputs": [
    {
     "name": "stdout",
     "output_type": "stream",
     "text": [
      "Files already downloaded and verified\n",
      "Files already downloaded and verified\n",
      "Files already downloaded and verified\n",
      "Files already downloaded and verified\n",
      "Epoch: [1/5], Batches: [100/782], Loss: 2.303, Acc: 10.81%\n",
      "Epoch: [1/5], Batches: [200/782], Loss: 2.304, Acc: 9.23%\n",
      "Epoch: [1/5], Batches: [300/782], Loss: 2.303, Acc: 8.91%\n",
      "Epoch: [1/5], Batches: [400/782], Loss: 2.302, Acc: 10.28%\n",
      "Epoch: [1/5], Batches: [500/782], Loss: 2.286, Acc: 12.23%\n",
      "Epoch: [1/5], Batches: [600/782], Loss: 2.166, Acc: 18.38%\n",
      "Epoch: [1/5], Batches: [700/782], Loss: 2.082, Acc: 21.89%\n",
      "Epoch: [2/5], Batches: [100/782], Loss: 1.985, Acc: 23.52%\n",
      "Epoch: [2/5], Batches: [200/782], Loss: 1.926, Acc: 26.23%\n",
      "Epoch: [2/5], Batches: [300/782], Loss: 1.867, Acc: 28.36%\n",
      "Epoch: [2/5], Batches: [400/782], Loss: 1.815, Acc: 30.17%\n",
      "Epoch: [2/5], Batches: [500/782], Loss: 1.788, Acc: 31.73%\n",
      "Epoch: [2/5], Batches: [600/782], Loss: 1.711, Acc: 34.52%\n",
      "Epoch: [2/5], Batches: [700/782], Loss: 1.650, Acc: 37.62%\n",
      "Epoch: [3/5], Batches: [100/782], Loss: 1.595, Acc: 39.61%\n",
      "Epoch: [3/5], Batches: [200/782], Loss: 1.540, Acc: 41.95%\n",
      "Epoch: [3/5], Batches: [300/782], Loss: 1.497, Acc: 43.77%\n",
      "Epoch: [3/5], Batches: [400/782], Loss: 1.484, Acc: 43.78%\n",
      "Epoch: [3/5], Batches: [500/782], Loss: 1.433, Acc: 46.00%\n",
      "Epoch: [3/5], Batches: [600/782], Loss: 1.385, Acc: 49.34%\n",
      "Epoch: [3/5], Batches: [700/782], Loss: 1.355, Acc: 50.20%\n",
      "Epoch: [4/5], Batches: [100/782], Loss: 1.259, Acc: 54.19%\n",
      "Epoch: [4/5], Batches: [200/782], Loss: 1.280, Acc: 53.61%\n",
      "Epoch: [4/5], Batches: [300/782], Loss: 1.266, Acc: 54.20%\n",
      "Epoch: [4/5], Batches: [400/782], Loss: 1.251, Acc: 53.98%\n",
      "Epoch: [4/5], Batches: [500/782], Loss: 1.250, Acc: 54.31%\n",
      "Epoch: [4/5], Batches: [600/782], Loss: 1.196, Acc: 56.66%\n",
      "Epoch: [4/5], Batches: [700/782], Loss: 1.188, Acc: 56.78%\n",
      "Epoch: [5/5], Batches: [100/782], Loss: 1.101, Acc: 60.89%\n",
      "Epoch: [5/5], Batches: [200/782], Loss: 1.086, Acc: 60.75%\n",
      "Epoch: [5/5], Batches: [300/782], Loss: 1.097, Acc: 60.48%\n",
      "Epoch: [5/5], Batches: [400/782], Loss: 1.088, Acc: 60.92%\n",
      "Epoch: [5/5], Batches: [500/782], Loss: 1.077, Acc: 61.02%\n",
      "Epoch: [5/5], Batches: [600/782], Loss: 1.077, Acc: 62.22%\n",
      "Epoch: [5/5], Batches: [700/782], Loss: 1.029, Acc: 63.77%\n",
      "Finished Training\n",
      "Accuracy of the network on the 10000 test images: 62.06%\n",
      "Accuracy for class plane is: 76.4 %\n",
      "Accuracy for class car   is: 73.4 %\n",
      "Accuracy for class bird  is: 39.0 %\n",
      "Accuracy for class cat   is: 33.9 %\n",
      "Accuracy for class deer  is: 53.8 %\n",
      "Accuracy for class dog   is: 67.1 %\n",
      "Accuracy for class frog  is: 74.1 %\n",
      "Accuracy for class horse is: 75.2 %\n",
      "Accuracy for class ship  is: 50.6 %\n",
      "Accuracy for class truck is: 77.1 %\n"
     ]
    }
   ],
   "source": [
    "vistrainloader, vistestloader = get_vis_loader()\n",
    "trainloader = get_train_loader(batch_size, transform)\n",
    "testloader = get_test_loader(batch_size, transform)\n",
    "device = torch.device(\"cuda:0\" if torch.cuda.is_available() else \"cpu\")\n",
    "model = ConvolutionNet().to(device)\n",
    "optimizer = optim.SGD(model.parameters(), lr=0.01, momentum=0.9)\n",
    "criterion = nn.CrossEntropyLoss()\n",
    "train(model, trainloader, optimizer, 5, device)\n",
    "test(model, testloader, device)\n",
    "class_test(model, testloader, classes, device)"
   ]
  },
  {
   "cell_type": "markdown",
   "metadata": {},
   "source": [
    "## Let's use BN\n",
    "\n",
    "Add BatchNorm2d to the convolution neural network you implemented.\n",
    "\n",
    "You should add batchnorm after the convolution operator and before the activation layer.\n",
    "\n",
    "Please train this network and show the test accuracy."
   ]
  },
  {
   "cell_type": "code",
   "execution_count": 20,
   "metadata": {},
   "outputs": [],
   "source": [
    "class ConvolutionBNNet(nn.Module):\n",
    "    def __init__(self):\n",
    "        super(ConvolutionBNNet, self).__init__()\n",
    "        # Adding Conv layers with BatchNorm\n",
    "        self.conv1 = nn.Conv2d(3, 8, kernel_size=5, padding=2)\n",
    "        self.bn1 = nn.BatchNorm2d(8)\n",
    "\n",
    "        self.conv2 = nn.Conv2d(8, 16, kernel_size=5, padding=2, stride=2)\n",
    "        self.bn2 = nn.BatchNorm2d(16)\n",
    "\n",
    "        self.conv3 = nn.Conv2d(16, 32, kernel_size=5, padding=2)\n",
    "        self.bn3 = nn.BatchNorm2d(32)\n",
    "\n",
    "        self.conv4 = nn.Conv2d(32, 64, kernel_size=5, padding=2, stride=2)\n",
    "        self.bn4 = nn.BatchNorm2d(64)\n",
    "\n",
    "        self.conv5 = nn.Conv2d(64, 128, kernel_size=3, padding=1)  # Use kernel_size=3 to reduce size reduction\n",
    "        self.bn5 = nn.BatchNorm2d(128)\n",
    "\n",
    "        self.pool = nn.MaxPool2d(2, 2)\n",
    "\n",
    "        # Adjust the dummy input size to batch size of 4\n",
    "        self._to_linear = None\n",
    "        self.convs(torch.randn(4, 3, 32, 32))  # Dummy input for size calculation\n",
    "\n",
    "        self.fc1 = nn.Linear(self._to_linear, 120)\n",
    "        self.fc2 = nn.Linear(120, 84)\n",
    "        self.fc3 = nn.Linear(84, 10)\n",
    "\n",
    "    def convs(self, x):\n",
    "        # Pooling only on selected layers to prevent too much size reduction\n",
    "        x = F.relu(self.bn1(self.conv1(x)))  # Conv1 + BN + ReLU\n",
    "        x = self.pool(F.relu(self.bn2(self.conv2(x))))  # Conv2 + BN + Pooling\n",
    "        x = F.relu(self.bn3(self.conv3(x)))  # Conv3 + BN\n",
    "        x = self.pool(F.relu(self.bn4(self.conv4(x))))  # Conv4 + BN + Pooling\n",
    "        x = F.relu(self.bn5(self.conv5(x)))  # Conv5 + BN (no pooling to prevent too much reduction)\n",
    "\n",
    "        if self._to_linear is None:\n",
    "            self._to_linear = x[0].numel()  # Get the flattened size for FC layer\n",
    "\n",
    "        return x\n",
    "\n",
    "    def forward(self, x):\n",
    "        x = self.convs(x)\n",
    "        x = x.view(-1, self._to_linear)  # Flatten\n",
    "        x = F.relu(self.fc1(x))\n",
    "        x = F.relu(self.fc2(x))\n",
    "        x = self.fc3(x)\n",
    "        return x"
   ]
  },
  {
   "cell_type": "markdown",
   "metadata": {},
   "source": [
    "## Train the CNN with BN\n",
    "\n",
    "Train this CNN with learning rate 1e-2 for 5 epochs."
   ]
  },
  {
   "cell_type": "code",
   "execution_count": 21,
   "metadata": {},
   "outputs": [],
   "source": [
    "# Train function\n",
    "# Define the model, optimizer, and loss function\n",
    "device = torch.device(\"cuda:0\" if torch.cuda.is_available() else \"cpu\")\n",
    "model_bn = ConvolutionBNNet().to(device)\n",
    "optimizer_bn = optim.SGD(model_bn.parameters(), lr=1e-2, momentum=0.9)\n",
    "criterion_bn = nn.CrossEntropyLoss()\n",
    "\n",
    "def forward_step(net, inputs, labels, device):\n",
    "    inputs, labels = inputs.to(device), labels.to(device)\n",
    "    outputs = net(inputs)\n",
    "    loss = criterion(outputs, labels)\n",
    "    return outputs, loss, labels\n",
    "\n",
    "# Training the CNN with BatchNorm for 5 epochs\n",
    "def train_bn(net, loader, optimizer, max_epoch, device):\n",
    "    net.train()\n",
    "    for epoch in range(max_epoch):\n",
    "        running_loss = 0.0\n",
    "        for i, data in enumerate(loader, 0):\n",
    "            inputs, labels = data\n",
    "            inputs, labels = inputs.to(device), labels.to(device)\n",
    "\n",
    "            optimizer.zero_grad()\n",
    "            outputs = net(inputs)\n",
    "            loss = criterion_bn(outputs, labels)\n",
    "            loss.backward()\n",
    "            optimizer.step()\n",
    "\n",
    "            running_loss += loss.item()\n",
    "        print(f'Epoch [{epoch + 1}/{max_epoch}] - Loss: {running_loss / len(loader):.4f}')\n",
    "\n",
    "    print('Finished Training with BatchNorm')"
   ]
  },
  {
   "cell_type": "markdown",
   "metadata": {},
   "source": [
    "## Test the CNN with BN\n",
    "\n",
    "Test this CNN on the test dataset."
   ]
  },
  {
   "cell_type": "code",
   "execution_count": 22,
   "metadata": {},
   "outputs": [],
   "source": [
    "def test_bn(net, testloader, device):\n",
    "    correct = 0\n",
    "    total = 0\n",
    "    net.eval()\n",
    "    with torch.no_grad():\n",
    "        for data in testloader:\n",
    "            images, labels = data\n",
    "            images, labels = images.to(device), labels.to(device)\n",
    "            outputs = net(images)\n",
    "            _, predicted = torch.max(outputs.data, 1)\n",
    "            total += labels.size(0)\n",
    "            correct += (predicted == labels).sum().item()\n",
    "    accuracy = 100 * correct / total\n",
    "    print(f'Accuracy of the network on the 10000 test images: {accuracy:.2f}%')\n",
    "    return accuracy\n",
    "def class_test_bn(net, testloader, classes, device):\n",
    "    correct_pred = {classname: 0 for classname in classes}\n",
    "    total_pred = {classname: 0 for classname in classes}\n",
    "\n",
    "    net.eval()\n",
    "    with torch.no_grad():\n",
    "        for data in testloader:\n",
    "            images, labels = data\n",
    "            images, labels = images.to(device), labels.to(device)\n",
    "            outputs = net(images)\n",
    "            _, predictions = torch.max(outputs, 1)\n",
    "            for label, prediction in zip(labels, predictions):\n",
    "                if label == prediction:\n",
    "                    correct_pred[classes[label]] += 1\n",
    "                total_pred[classes[label]] += 1\n",
    "\n",
    "    for classname, correct_count in correct_pred.items():\n",
    "        acc = 100 * float(correct_count) / total_pred[classname]\n",
    "        print(f\"Accuracy for class {classname:5s} is: {acc:.1f} %\")\n"
   ]
  },
  {
   "cell_type": "markdown",
   "metadata": {},
   "source": [
    "## Accuracy (each class) of CNN with BN\n",
    "\n",
    "Test this CNN with BNN on the test dataset to see the accuracy of each class."
   ]
  },
  {
   "cell_type": "code",
   "execution_count": 23,
   "metadata": {},
   "outputs": [],
   "source": [
    "def accuracy(output, target):\n",
    "    pred = output.max(1, keepdim=True)[1]\n",
    "    return pred.eq(target.view_as(pred)).float().mean()\n",
    "\n"
   ]
  },
  {
   "cell_type": "markdown",
   "metadata": {},
   "source": [
    "## train the network"
   ]
  },
  {
   "cell_type": "code",
   "execution_count": 24,
   "metadata": {},
   "outputs": [
    {
     "name": "stdout",
     "output_type": "stream",
     "text": [
      "Files already downloaded and verified\n",
      "Files already downloaded and verified\n",
      "Files already downloaded and verified\n",
      "Files already downloaded and verified\n",
      "Epoch [1/5] - Loss: 1.4244\n",
      "Epoch [2/5] - Loss: 0.9979\n",
      "Epoch [3/5] - Loss: 0.8416\n",
      "Epoch [4/5] - Loss: 0.7408\n",
      "Epoch [5/5] - Loss: 0.6704\n",
      "Finished Training with BatchNorm\n",
      "Accuracy of the network on the 10000 test images: 71.45%\n",
      "Accuracy for class plane is: 71.7 %\n",
      "Accuracy for class car   is: 79.9 %\n",
      "Accuracy for class bird  is: 52.8 %\n",
      "Accuracy for class cat   is: 50.1 %\n",
      "Accuracy for class deer  is: 81.7 %\n",
      "Accuracy for class dog   is: 65.8 %\n",
      "Accuracy for class frog  is: 71.6 %\n",
      "Accuracy for class horse is: 79.3 %\n",
      "Accuracy for class ship  is: 83.1 %\n",
      "Accuracy for class truck is: 78.5 %\n"
     ]
    }
   ],
   "source": [
    "# Data loaders\n",
    "vistrainloader, vistestloader = get_vis_loader()\n",
    "trainloader = get_train_loader(batch_size, transform)\n",
    "testloader = get_test_loader(batch_size, transform)\n",
    "# Instantiate model and set device\n",
    "device = torch.device(\"cuda:0\" if torch.cuda.is_available() else \"cpu\")\n",
    "model = ConvolutionBNNet().to(device)\n",
    "# Set optimizer and criterion\n",
    "optimizer = optim.SGD(model.parameters(), lr=0.01, momentum=0.9)\n",
    "criterion = nn.CrossEntropyLoss()\n",
    "# Train the model with BatchNorm\n",
    "train_bn(model_bn, trainloader, optimizer_bn, 5, device)\n",
    "# Test the model with BatchNorm\n",
    "test_bn(model_bn, testloader, device)\n",
    "# Check class-wise accuracy\n",
    "class_test_bn(model_bn, testloader, classes, device)\n"
   ]
  },
  {
   "cell_type": "code",
   "execution_count": null,
   "metadata": {},
   "outputs": [],
   "source": []
  },
  {
   "cell_type": "markdown",
   "metadata": {},
   "source": [
    "## save resnet model"
   ]
  },
  {
   "cell_type": "code",
   "execution_count": null,
   "metadata": {},
   "outputs": [],
   "source": [
    "PATH = './checkpoints/bnnet.pth'\n",
    "\n",
    "def save_model(net, path):\n",
    "    torch.save(net.state_dict(), path)\n",
    "    \n",
    "save_model(fc_net, PATH)"
   ]
  },
  {
   "cell_type": "markdown",
   "metadata": {},
   "source": [
    "## test the network on the test data"
   ]
  },
  {
   "cell_type": "code",
   "execution_count": null,
   "metadata": {},
   "outputs": [],
   "source": [
    "dataiter = iter(vistestloader)\n",
    "images, labels = next(dataiter)\n",
    "\n",
    "# print images\n",
    "imshow(torchvision.utils.make_grid(images))\n",
    "print('GroundTruth: ', ' '.join('%5s' % classes[labels[j]] for j in range(4)))"
   ]
  },
  {
   "cell_type": "markdown",
   "metadata": {},
   "source": [
    "## load the model"
   ]
  },
  {
   "cell_type": "code",
   "execution_count": null,
   "metadata": {},
   "outputs": [],
   "source": [
    "net = NeuralNet()\n",
    "\n",
    "def load_model(net, path):\n",
    "    net.load_state_dict(torch.load(PATH))\n",
    "    \n",
    "load_model(net, PATH)"
   ]
  },
  {
   "cell_type": "markdown",
   "metadata": {},
   "source": [
    "## Design by yourself--ResNet\n",
    "Now, based on the knowledge learned in class or by referring to online resources, you can design your own network architecture or incorporate other optimization methods to improve task performance. Please provide at least one improvement strategy."
   ]
  },
  {
   "cell_type": "markdown",
   "metadata": {},
   "source": [
    "### Define the Net"
   ]
  },
  {
   "cell_type": "code",
   "execution_count": 12,
   "metadata": {},
   "outputs": [],
   "source": [
    "'''\n",
    "Implement here\n",
    "'''\n",
    "# Residual Block\n",
    "class ResidualBlock(nn.Module):\n",
    "    def __init__(self, in_channels, out_channels, stride=1):\n",
    "        super(ResidualBlock, self).__init__()\n",
    "        self.conv1 = nn.Conv2d(in_channels, out_channels, kernel_size=3, stride=stride, padding=1)\n",
    "        self.bn1 = nn.BatchNorm2d(out_channels)\n",
    "        self.conv2 = nn.Conv2d(out_channels, out_channels, kernel_size=3, padding=1)\n",
    "        self.bn2 = nn.BatchNorm2d(out_channels)\n",
    "\n",
    "        # 跳跃连接（shortcut connection），如果尺寸不同则调整\n",
    "        self.shortcut = nn.Sequential()\n",
    "        if stride != 1 or in_channels != out_channels:\n",
    "            self.shortcut = nn.Sequential(\n",
    "                nn.Conv2d(in_channels, out_channels, kernel_size=1, stride=stride),\n",
    "                nn.BatchNorm2d(out_channels)\n",
    "            )\n",
    "\n",
    "    def forward(self, x):\n",
    "        identity = self.shortcut(x)\n",
    "        out = F.relu(self.bn1(self.conv1(x)))\n",
    "        out = self.bn2(self.conv2(out))\n",
    "        out += identity  # 残差连接\n",
    "        return F.relu(out)\n",
    "\n",
    "\n",
    "# ResNet with 3 Residual Blocks\n",
    "class ResNet(nn.Module):\n",
    "    def __init__(self):\n",
    "        super(ResNet, self).__init__()\n",
    "        self.conv1 = nn.Conv2d(3, 64, kernel_size=3, stride=1, padding=1)\n",
    "        self.bn1 = nn.BatchNorm2d(64)\n",
    "\n",
    "        # Residual layers\n",
    "        self.layer1 = self._make_layer(64, 128, stride=2)\n",
    "        self.layer2 = self._make_layer(128, 256, stride=2)\n",
    "        self.layer3 = self._make_layer(256, 512, stride=2)\n",
    "\n",
    "        self.pool = nn.AdaptiveAvgPool2d((1, 1))\n",
    "        self.fc = nn.Linear(512, 10)\n",
    "        self.dropout = nn.Dropout(0.5)\n",
    "\n",
    "    def _make_layer(self, in_channels, out_channels, stride):\n",
    "        return ResidualBlock(in_channels, out_channels, stride)\n",
    "\n",
    "    def forward(self, x):\n",
    "        x = F.relu(self.bn1(self.conv1(x)))\n",
    "        x = self.layer1(x)\n",
    "        x = self.layer2(x)\n",
    "        x = self.layer3(x)\n",
    "        x = self.pool(x)\n",
    "        x = x.view(x.size(0), -1)\n",
    "        x = self.dropout(x)\n",
    "        x = self.fc(x)\n",
    "        return x\n",
    "\n",
    "    "
   ]
  },
  {
   "cell_type": "markdown",
   "metadata": {},
   "source": [
    "### Training the CNN with BatchNorm for 5 epochs"
   ]
  },
  {
   "cell_type": "code",
   "execution_count": 13,
   "metadata": {},
   "outputs": [],
   "source": [
    "# Define the optimizer, scheduler, and loss function\n",
    "device = torch.device(\"cuda:0\" if torch.cuda.is_available() else \"cpu\")\n",
    "model_resnet = ResNet().to(device)\n",
    "optimizer = optim.SGD(model_resnet.parameters(), lr=1e-2, momentum=0.9)\n",
    "scheduler = StepLR(optimizer, step_size=10, gamma=0.1)\n",
    "criterion = nn.CrossEntropyLoss()\n",
    "# Training the CNN with BatchNorm for 5 epochs\n",
    "def train_bn(net, loader, optimizer, max_epoch, device):\n",
    "    net.train()\n",
    "    for epoch in range(max_epoch):\n",
    "        running_loss = 0.0\n",
    "        for i, data in enumerate(loader, 0):\n",
    "            inputs, labels = data\n",
    "            inputs, labels = inputs.to(device), labels.to(device)\n",
    "\n",
    "            optimizer.zero_grad()\n",
    "            outputs = net(inputs)\n",
    "            loss = criterion(outputs, labels)\n",
    "            loss.backward()\n",
    "            optimizer.step()\n",
    "\n",
    "            running_loss += loss.item()\n",
    "        print(f'Epoch [{epoch + 1}/{max_epoch}] - Loss: {running_loss / len(loader):.4f}')\n",
    "\n",
    "    print('Finished Training with BatchNorm')"
   ]
  },
  {
   "cell_type": "markdown",
   "metadata": {},
   "source": [
    "### Test function (same as before)"
   ]
  },
  {
   "cell_type": "code",
   "execution_count": 14,
   "metadata": {},
   "outputs": [],
   "source": [
    "# Testing the CNN with BatchNorm\n",
    "def test_bn(net, testloader, device):\n",
    "    correct = 0\n",
    "    total = 0\n",
    "    net.eval()\n",
    "    with torch.no_grad():\n",
    "        for data in testloader:\n",
    "            images, labels = data\n",
    "            images, labels = images.to(device), labels.to(device)\n",
    "            outputs = net(images)\n",
    "            _, predicted = torch.max(outputs.data, 1)\n",
    "            total += labels.size(0)\n",
    "            correct += (predicted == labels).sum().item()\n",
    "    accuracy = 100 * correct / total\n",
    "    print(f'Accuracy of the network on the 10000 test images: {accuracy:.2f}%')\n",
    "    return accuracy\n",
    "# Testing per class accuracy\n",
    "def class_test_bn(net, testloader, classes, device):\n",
    "    correct_pred = {classname: 0 for classname in classes}\n",
    "    total_pred = {classname: 0 for classname in classes}\n",
    "\n",
    "    net.eval()\n",
    "    with torch.no_grad():\n",
    "        for data in testloader:\n",
    "            images, labels = data\n",
    "            images, labels = images.to(device), labels.to(device)\n",
    "            outputs = net(images)\n",
    "            _, predictions = torch.max(outputs, 1)\n",
    "            for label, prediction in zip(labels, predictions):\n",
    "                if label == prediction:\n",
    "                    correct_pred[classes[label]] += 1\n",
    "                total_pred[classes[label]] += 1\n",
    "\n",
    "    for classname, correct_count in correct_pred.items():\n",
    "        acc = 100 * float(correct_count) / total_pred[classname]\n",
    "        print(f\"Accuracy for class {classname:5s} is: {acc:.1f} %\")\n"
   ]
  },
  {
   "cell_type": "code",
   "execution_count": null,
   "metadata": {},
   "outputs": [],
   "source": []
  },
  {
   "cell_type": "markdown",
   "metadata": {},
   "source": [
    "### Accuracy (each class) of CNN with BN\n",
    "\n",
    "Test this CNN with BNN on the test dataset to see the accuracy of each class."
   ]
  },
  {
   "cell_type": "code",
   "execution_count": 15,
   "metadata": {},
   "outputs": [],
   "source": [
    "def accuracy(output, target):\n",
    "    pred = output.max(1, keepdim=True)[1]\n",
    "    return pred.eq(target.view_as(pred)).float().mean()\n",
    "\n"
   ]
  },
  {
   "cell_type": "markdown",
   "metadata": {},
   "source": [
    "### train the network"
   ]
  },
  {
   "cell_type": "code",
   "execution_count": null,
   "metadata": {},
   "outputs": [
    {
     "name": "stdout",
     "output_type": "stream",
     "text": [
      "Files already downloaded and verified\n",
      "Files already downloaded and verified\n",
      "Files already downloaded and verified\n",
      "Files already downloaded and verified\n"
     ]
    }
   ],
   "source": [
    "# Data loaders\n",
    "vistrainloader, vistestloader = get_vis_loader()\n",
    "trainloader = get_train_loader(batch_size, transform)\n",
    "testloader = get_test_loader(batch_size, transform)\n",
    "# Instantiate model and set device\n",
    "device = torch.device(\"cuda:0\" if torch.cuda.is_available() else \"cpu\")\n",
    "model_resnet = ResNet().to(device)\n",
    "# Set optimizer and criterion\n",
    "optimizer = optim.SGD(model_resnet.parameters(), lr=1e-2, momentum=0.9)\n",
    "criterion = nn.CrossEntropyLoss()\n",
    "\n",
    "# Train the model\n",
    "train_bn(model_resnet, trainloader, optimizer, 20, device)\n",
    "# Test the model\n",
    "test_bn(model_resnet, testloader, device)\n",
    "# Class-wise accuracy\n",
    "class_test_bn(model_resnet, testloader, classes, device)\n",
    "\n"
   ]
  },
  {
   "cell_type": "markdown",
   "metadata": {},
   "source": [
    "### save resnet model"
   ]
  },
  {
   "cell_type": "code",
   "execution_count": null,
   "metadata": {},
   "outputs": [],
   "source": [
    "PATH = './checkpoints/resnet.pth'\n",
    "\n",
    "def save_model(net, path):\n",
    "    torch.save(net.state_dict(), path)\n",
    "    \n",
    "save_model(fc_net, PATH)"
   ]
  },
  {
   "cell_type": "markdown",
   "metadata": {},
   "source": [
    "### test the network on the test data"
   ]
  },
  {
   "cell_type": "code",
   "execution_count": null,
   "metadata": {},
   "outputs": [],
   "source": [
    "dataiter = iter(vistestloader)\n",
    "images, labels = next(dataiter)\n",
    "\n",
    "# print images\n",
    "imshow(torchvision.utils.make_grid(images))\n",
    "print('GroundTruth: ', ' '.join('%5s' % classes[labels[j]] for j in range(4)))"
   ]
  },
  {
   "cell_type": "markdown",
   "metadata": {},
   "source": [
    "### load the model"
   ]
  },
  {
   "cell_type": "code",
   "execution_count": null,
   "metadata": {},
   "outputs": [],
   "source": [
    "net = NeuralNet()\n",
    "\n",
    "def load_model(net, path):\n",
    "    net.load_state_dict(torch.load(PATH))\n",
    "    \n",
    "load_model(net, PATH)"
   ]
  }
 ],
 "metadata": {
  "kernelspec": {
   "display_name": "DASC7606",
   "language": "python",
   "name": "python3"
  },
  "language_info": {
   "codemirror_mode": {
    "name": "ipython",
    "version": 3
   },
   "file_extension": ".py",
   "mimetype": "text/x-python",
   "name": "python",
   "nbconvert_exporter": "python",
   "pygments_lexer": "ipython3",
   "version": "3.11.9"
  },
  "toc": {
   "base_numbering": 1,
   "nav_menu": {},
   "number_sections": true,
   "sideBar": true,
   "skip_h1_title": false,
   "title_cell": "Table of Contents",
   "title_sidebar": "Contents",
   "toc_cell": false,
   "toc_position": {},
   "toc_section_display": true,
   "toc_window_display": false
  }
 },
 "nbformat": 4,
 "nbformat_minor": 4
}
